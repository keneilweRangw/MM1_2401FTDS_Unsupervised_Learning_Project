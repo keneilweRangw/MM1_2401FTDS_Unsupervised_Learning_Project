{
  "nbformat": 4,
  "nbformat_minor": 0,
  "metadata": {
    "colab": {
      "provenance": []
    },
    "kernelspec": {
      "name": "python3",
      "display_name": "Python 3"
    },
    "language_info": {
      "name": "python"
    }
  },
  "cells": [
    {
      "cell_type": "markdown",
      "source": [
        "# Topic\n"
      ],
      "metadata": {
        "id": "ZhLCHeUm3Ug3"
      }
    },
    {
      "cell_type": "markdown",
      "source": [
        "<a id=\"cont\"></a>\n",
        "\n",
        "## Table of Contents\n",
        "* <b>[1. Project Overview](#chapter1)\n",
        "    * [1.1 Introduction](#section_1_1)\n",
        "       * [1.1.1 Problem Statement](#sub_section_1_1_1)\n",
        "* <b>[2. Data Overview](#chapter2)   \n",
        "* <b>[3. Importing Packages](#chapter3)\n",
        "* <b>[4. Loading Data](#chapter4)\n",
        "* <b>[5. Data Cleaning](#chapter5)\n",
        "* <b>[6. Exploratory Data Analysis (EDA)](#chapter6)\n"
      ],
      "metadata": {
        "id": "6hiefOLr1Mnu"
      }
    },
    {
      "cell_type": "markdown",
      "source": [
        "#<b>[1. Project Overview](#chapter1)\n",
        "## [1.1 Introduction](#section_1_1)\n",
        "\n",
        "In today's digital era, recommender systems play a crucial role in helping people find content that suits their interests. Platforms like Netflix, Amazon Prime, Showmax, and Disney rely on sophisticated algorithms to suggest movies and shows tailored to individual preferences. But have you ever wondered how these platforms seem to know your tastes so well?\n",
        "\n",
        "This project aims to develop a recommender system specifically for anime titles, leveraging advanced machine learning techniques. The system will help anime fans discover new shows that match their unique preferences, making the viewing experience more enjoyable and personalized.\n",
        "\n",
        "### [1.1.1 Problem Statement](#sub_section_1_1_1)\n",
        "\n",
        "The primary goal of this project is to create a recommender system that can accurately predict how users will rate anime titles they haven't watched yet. We will achieve this by combining collaborative filtering and content-based filtering methods, using a comprehensive dataset from myanimelist.net.\n",
        "\n",
        "Key challenges we will address include:\n",
        "\n",
        "1. `Data Analysis and Preparation`: Cleaning and organizing the dataset to ensure it's suitable for building our models.\n",
        "2. `Collaborative Filtering:` Developing a model that recommends anime based on the preferences of users with similar tastes.\n",
        "3. `Content-Based Filtering:` Creating a model that suggests anime based on the characteristics of the titles a user has already enjoyed.\n",
        "4. `Hybrid Approach:` Integrating both collaborative and content-based filtering methods to enhance recommendation accuracy.\n",
        "5. `Evaluation and Optimization:` Testing our system and fine-tuning it to provide the best possible recommendations.\n",
        "\n",
        "By tackling these challenges, we'll create a powerful recommender system that not only helps users discover new anime but also enhances their overall viewing\n",
        "experience. This project highlights the impact of machine learning in revolutionizing how we find and enjoy content in the entertainment industry."
      ],
      "metadata": {
        "id": "bq4z_sSx1bBC"
      }
    },
    {
      "cell_type": "markdown",
      "source": [
        "# <b>[2. Data Overview](#chapter2)\n",
        "\n",
        "This project utilizes a comprehensive dataset to develop our anime recommender system. The dataset includes information about various anime content, such as movies, television series, music, specials, OVAs (Original Video Animations), and ONAs (Original Net Animations). The data is divided into several files:\n",
        "\n",
        "1. **anime.csv**: Contains details about each anime.\n",
        "\n",
        "2. **train.csv**: Contains user rating data for individual anime titles.\n",
        "\n",
        "3. **test.csv**: Used for creating the final submission.\n",
        "\n",
        "\n",
        "The dataset can be accessed [here](https://www.kaggle.com/competitions/anime-recommender-system-project-2024/data)\n",
        "\n",
        "By analyzing and utilizing this dataset, we aim to create a robust recommender system that helps users discover new anime titles that align with their preferences."
      ],
      "metadata": {
        "id": "YgZdwIEOL9nk"
      }
    },
    {
      "cell_type": "code",
      "execution_count": null,
      "metadata": {
        "id": "PDcHI1Vd1BZI"
      },
      "outputs": [],
      "source": []
    }
  ]
}